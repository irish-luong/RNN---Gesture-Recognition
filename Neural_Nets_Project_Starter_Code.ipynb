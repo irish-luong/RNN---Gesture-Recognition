{
 "cells": [
  {
   "cell_type": "markdown",
   "metadata": {},
   "source": [
    "# Gesture Recognition\n",
    "In this group project, you are going to build a 3D Conv model that will be able to predict the 5 gestures correctly. Please import the following libraries to get started."
   ]
  },
  {
   "cell_type": "code",
   "execution_count": 1,
   "metadata": {},
   "outputs": [],
   "source": [
    "import os\n",
    "import cv2\n",
    "import datetime\n",
    "import numpy as np\n",
    "import random as rn\n",
    "import tensorflow as tf\n",
    "from keras import backend as K\n",
    "\n",
    "try:\n",
    "    from scipy.misc import imread\n",
    "except:\n",
    "    from imageio.v2 import imread"
   ]
  },
  {
   "cell_type": "markdown",
   "metadata": {},
   "source": [
    "We set the random seed so that the results don't vary drastically."
   ]
  },
  {
   "cell_type": "code",
   "execution_count": 2,
   "metadata": {},
   "outputs": [],
   "source": [
    "np.random.seed(30)\n",
    "rn.seed(30)\n",
    "try:\n",
    "    tf.set_random_seed(30)\n",
    "except:\n",
    "    tf.random.set_seed(30)"
   ]
  },
  {
   "cell_type": "markdown",
   "metadata": {},
   "source": [
    "In this block, you read the folder names for training and validation. You also set the `batch_size` here. Note that you set the batch size in such a way that you are able to use the GPU in full capacity. You keep increasing the batch size until the machine throws an error."
   ]
  },
  {
   "cell_type": "code",
   "execution_count": 3,
   "metadata": {},
   "outputs": [],
   "source": [
    "# train_doc = np.random.permutation(open('/notebooks/storage/Final_data/Collated_training/train.csv').readlines())\n",
    "# val_doc = np.random.permutation(open('/notebooks/storage/Final_data/Collated_training/val.csv').readlines())\n",
    "\n",
    "train_doc = np.random.permutation(open('./data/train.csv').readlines())\n",
    "val_doc = np.random.permutation(open('./data/val.csv').readlines())\n",
    " \n",
    "batch_size = 10 #experiment with the batch size\n",
    "data_dir = 'data'\n",
    "train_path = f'{data_dir}/train'\n",
    "val_path = f'{data_dir}/val'"
   ]
  },
  {
   "cell_type": "markdown",
   "metadata": {},
   "source": [
    "### CONSTANT"
   ]
  },
  {
   "cell_type": "code",
   "execution_count": 4,
   "metadata": {},
   "outputs": [],
   "source": [
    "#  Constant\n",
    "TOTAL_IMAGE = 30\n",
    "IMAGE_HEIGHT = 160\n",
    "IMAGE_WIDTH = 160\n",
    "CHANNELS = 3\n",
    "NUM_CLASSES = 5 # number of classes\n",
    "INPUT_SHAPE=(TOTAL_IMAGE, IMAGE_WIDTH, IMAGE_HEIGHT, CHANNELS)"
   ]
  },
  {
   "cell_type": "markdown",
   "metadata": {},
   "source": [
    "## Generator\n",
    "This is one of the most important part of the code. The overall structure of the generator has been given. In the generator, you are going to preprocess the images as you have images of 2 different dimensions as well as create a batch of video frames. You have to experiment with `img_idx`, `y`,`z` and normalization such that you get high accuracy."
   ]
  },
  {
   "cell_type": "code",
   "execution_count": 5,
   "metadata": {},
   "outputs": [],
   "source": [
    "def crop_resize_img(img):\n",
    "    resized_image = cv2.resize(img, (IMAGE_WIDTH,IMAGE_HEIGHT))\n",
    "    return resized_image\n",
    "\n",
    "def generator(source_path, folder_list, batch_size):\n",
    "    print( 'Source path = ', source_path, '; batch size =', batch_size)\n",
    "    img_idx = list(range(TOTAL_IMAGE))\n",
    "    while True:\n",
    "        t = np.random.permutation(folder_list)\n",
    "        num_batches = len(t) // batch_size # calculate the number of batches\n",
    "        for batch in range(num_batches): # we iterate over the number of batches\n",
    "            batch_data = np.zeros((batch_size, TOTAL_IMAGE, IMAGE_WIDTH, IMAGE_HEIGHT, CHANNELS)) # x is the number of images you use for each video, (y,z) is the final size of the input images and 3 is the number of channels RGB\n",
    "            batch_labels = np.zeros((batch_size, NUM_CLASSES)) # batch_labels is the one hot representation of the output\n",
    "            for folder in range(batch_size): # iterate over the batch_size\n",
    "                imgs = os.listdir(source_path+'/'+ t[folder + (batch*batch_size)].split(';')[0]) # read all the images in the folder\n",
    "                for idx,item in enumerate(img_idx): #  Iterate iver the frames/images of a folder to read them in\n",
    "                    image = imread(source_path+'/'+ t[folder + (batch*batch_size)].strip().split(';')[0]+'/'+imgs[item]).astype(np.float32)\n",
    "                    image = cv2.cvtColor(image, cv2.COLOR_BGR2RGB)\n",
    "\n",
    "                    #crop the images and resize them. Note that the images are of 2 different shape \n",
    "                    #and the conv3D will throw error if the inputs in a batch have different shapes\n",
    "                    temp = crop_resize_img(image)\n",
    "                    temp = temp/255 #Normalize data\n",
    "                    \n",
    "                    batch_data[folder,idx,:,:,0] = (temp[:,:,0]) #normalise and feed in the image\n",
    "                    batch_data[folder,idx,:,:,1] = (temp[:,:,1]) #normalise and feed in the image\n",
    "                    batch_data[folder,idx,:,:,2] = (temp[:,:,2]) #normalise and feed in the image\n",
    "                    \n",
    "                batch_labels[folder, int(t[folder + (batch*batch_size)].strip().split(';')[2])] = 1\n",
    "            yield batch_data, batch_labels #you yield the batch_data and the batch_labels, remember what does yield do\n",
    "\n",
    "        \n",
    "        # write the code for the remaining data points which are left after full batches\n",
    "        if (len(folder_list) != batch_size*num_batches):\n",
    "            print(\"Batch: \",num_batches+1,\"Index:\", batch_size)\n",
    "            batch_size = len(folder_list) - (batch_size*num_batches)\n",
    "            batch_data = np.zeros((batch_size, TOTAL_IMAGE, IMAGE_WIDTH, IMAGE_HEIGHT, CHANNELS)) # x is the number of images you use for each video, (y,z) is the final size of the input images and 3 is the number of channels RGB\n",
    "            batch_labels = np.zeros((batch_size, NUM_CLASSES)) # batch_labels is the one hot representation of the output\n",
    "            for folder in range(batch_size): # iterate over the batch_size\n",
    "                imgs = os.listdir(source_path+'/'+ t[folder + (batch*batch_size)].split(';')[0]) # read all the images in the folder\n",
    "                for idx,item in enumerate(img_idx): #  Iterate iver the frames/images of a folder to read them in\n",
    "                    image = imread(source_path+'/'+ t[folder + (batch*batch_size)].strip().split(';')[0]+'/'+imgs[item]).astype(np.float32)\n",
    "                    image = cv2.cvtColor(image, cv2.COLOR_BGR2RGB)\n",
    "                    #crop the images and resize them. Note that the images are of 2 different shape \n",
    "                    #and the conv3D will throw error if the inputs in a batch have different shapes\n",
    "                    temp = crop_resize_img(image)\n",
    "                    temp = temp/255 #Normalize data\n",
    "                                        \n",
    "                    batch_data[folder,idx,:,:,0] = (temp[:,:,0])\n",
    "                    batch_data[folder,idx,:,:,1] = (temp[:,:,1])\n",
    "                    batch_data[folder,idx,:,:,2] = (temp[:,:,2])\n",
    "                   \n",
    "                batch_labels[folder, int(t[folder + (batch*batch_size)].strip().split(';')[2])] = 1\n",
    "            yield batch_data, batch_labels"
   ]
  },
  {
   "cell_type": "markdown",
   "metadata": {},
   "source": [
    "Note here that a video is represented above in the generator as (number of images, height, width, number of channels). Take this into consideration while creating the model architecture."
   ]
  },
  {
   "cell_type": "code",
   "execution_count": 6,
   "metadata": {},
   "outputs": [
    {
     "name": "stdout",
     "output_type": "stream",
     "text": [
      "# training sequences = 663\n",
      "# validation sequences = 100\n",
      "# epochs = 30\n",
      "# num train batches = 66\n",
      "# num val batches = 10\n"
     ]
    }
   ],
   "source": [
    "num_train_sequences = len(train_doc)\n",
    "print('# training sequences =', num_train_sequences)\n",
    "\n",
    "num_val_sequences = len(val_doc)\n",
    "print('# validation sequences =', num_val_sequences)\n",
    "\n",
    "num_epochs = 30 # choose the number of epochs\n",
    "print ('# epochs =', num_epochs)\n",
    "\n",
    "num_batches = len(np.random.permutation(train_doc)) // batch_size\n",
    "print ('# num train batches =', num_batches)\n",
    "\n",
    "num_batches = len(np.random.permutation(val_doc)) // batch_size\n",
    "print ('# num val batches =', num_batches)\n"
   ]
  },
  {
   "cell_type": "markdown",
   "metadata": {},
   "source": [
    "## Model\n",
    "Here you make the model using different functionalities that Keras provides. Remember to use `Conv3D` and `MaxPooling3D` and not `Conv2D` and `Maxpooling2D` for a 3D convolution model. You would want to use `TimeDistributed` while building a Conv2D + RNN model. Also remember that the last layer is the softmax. Design the network in such a way that the model is able to give good accuracy on the least number of parameters so that it can fit in the memory of the webcam."
   ]
  },
  {
   "cell_type": "code",
   "execution_count": 7,
   "metadata": {},
   "outputs": [],
   "source": [
    "from keras import optimizers\n",
    "from keras.models import Sequential, Model\n",
    "from keras.applications import ResNet152V2\n",
    "from keras.layers import Conv3D, MaxPooling3D, Dropout, Activation\n",
    "from keras.callbacks import ModelCheckpoint, ReduceLROnPlateau, EarlyStopping\n",
    "from keras.layers import Dense, GRU, Flatten, TimeDistributed, Flatten, BatchNormalization, GlobalAveragePooling2D"
   ]
  },
  {
   "cell_type": "markdown",
   "metadata": {},
   "source": [
    "### Standard CNN + RNN model with TimeDistributed + ResNet152V2"
   ]
  },
  {
   "cell_type": "code",
   "execution_count": 8,
   "metadata": {},
   "outputs": [
    {
     "name": "stderr",
     "output_type": "stream",
     "text": [
      "2024-04-01 22:32:39.240223: I metal_plugin/src/device/metal_device.cc:1154] Metal device set to: Apple M1 Pro\n",
      "2024-04-01 22:32:39.240245: I metal_plugin/src/device/metal_device.cc:296] systemMemory: 16.00 GB\n",
      "2024-04-01 22:32:39.240251: I metal_plugin/src/device/metal_device.cc:313] maxCacheSize: 5.33 GB\n",
      "2024-04-01 22:32:39.240285: I tensorflow/core/common_runtime/pluggable_device/pluggable_device_factory.cc:306] Could not identify NUMA node of platform GPU ID 0, defaulting to 0. Your kernel may not have been built with NUMA support.\n",
      "2024-04-01 22:32:39.240301: I tensorflow/core/common_runtime/pluggable_device/pluggable_device_factory.cc:272] Created TensorFlow device (/job:localhost/replica:0/task:0/device:GPU:0 with 0 MB memory) -> physical PluggableDevice (device: 0, name: METAL, pci bus id: <undefined>)\n"
     ]
    }
   ],
   "source": [
    "resnet_model = Sequential()\n",
    "pre_trained_model = ResNet152V2(weights='imagenet', include_top=False)\n",
    "resnet_model.add(TimeDistributed(pre_trained_model, input_shape=INPUT_SHAPE, name='ResNet152V2', trainable=False))\n",
    "resnet_model.add(TimeDistributed(GlobalAveragePooling2D()))\n",
    "resnet_model.add(TimeDistributed(Dense(64, activation='relu')))\n",
    "resnet_model.add(Dense(256, activation='relu'))\n",
    "resnet_model.add(BatchNormalization())\n",
    "resnet_model.add(GRU(128, return_sequences=True))\n",
    "resnet_model.add(BatchNormalization())\n",
    "resnet_model.add(Flatten())\n",
    "resnet_model.add(Dense(256, activation='relu'))\n",
    "resnet_model.add(Dense(NUM_CLASSES, activation='softmax'))"
   ]
  },
  {
   "cell_type": "markdown",
   "metadata": {},
   "source": [
    "### 3D Convolutional Network model"
   ]
  },
  {
   "cell_type": "code",
   "execution_count": 9,
   "metadata": {},
   "outputs": [
    {
     "name": "stderr",
     "output_type": "stream",
     "text": [
      "WARNING:absl:At this time, the v2.11+ optimizer `tf.keras.optimizers.Adam` runs slowly on M1/M2 Macs, please use the legacy Keras optimizer instead, located at `tf.keras.optimizers.legacy.Adam`.\n"
     ]
    },
    {
     "name": "stdout",
     "output_type": "stream",
     "text": [
      "Model: \"sequential_1\"\n",
      "_________________________________________________________________\n",
      " Layer (type)                Output Shape              Param #   \n",
      "=================================================================\n",
      " conv3d (Conv3D)             (None, 30, 160, 160, 8)   656       \n",
      "                                                                 \n",
      " activation (Activation)     (None, 30, 160, 160, 8)   0         \n",
      "                                                                 \n",
      " dropout (Dropout)           (None, 30, 160, 160, 8)   0         \n",
      "                                                                 \n",
      " max_pooling3d (MaxPooling3  (None, 15, 80, 80, 8)     0         \n",
      " D)                                                              \n",
      "                                                                 \n",
      " conv3d_1 (Conv3D)           (None, 15, 80, 80, 16)    3472      \n",
      "                                                                 \n",
      " activation_1 (Activation)   (None, 15, 80, 80, 16)    0         \n",
      "                                                                 \n",
      " max_pooling3d_1 (MaxPoolin  (None, 7, 40, 40, 16)     0         \n",
      " g3D)                                                            \n",
      "                                                                 \n",
      " conv3d_2 (Conv3D)           (None, 7, 40, 40, 32)     4640      \n",
      "                                                                 \n",
      " activation_2 (Activation)   (None, 7, 40, 40, 32)     0         \n",
      "                                                                 \n",
      " max_pooling3d_2 (MaxPoolin  (None, 3, 20, 20, 32)     0         \n",
      " g3D)                                                            \n",
      "                                                                 \n",
      " conv3d_3 (Conv3D)           (None, 3, 20, 20, 64)     18496     \n",
      "                                                                 \n",
      " activation_3 (Activation)   (None, 3, 20, 20, 64)     0         \n",
      "                                                                 \n",
      " dropout_1 (Dropout)         (None, 3, 20, 20, 64)     0         \n",
      "                                                                 \n",
      " max_pooling3d_3 (MaxPoolin  (None, 1, 10, 10, 64)     0         \n",
      " g3D)                                                            \n",
      "                                                                 \n",
      " flatten_1 (Flatten)         (None, 6400)              0         \n",
      "                                                                 \n",
      " dense_4 (Dense)             (None, 256)               1638656   \n",
      "                                                                 \n",
      " dense_5 (Dense)             (None, 128)               32896     \n",
      "                                                                 \n",
      " dropout_2 (Dropout)         (None, 128)               0         \n",
      "                                                                 \n",
      " dense_6 (Dense)             (None, 5)                 645       \n",
      "                                                                 \n",
      "=================================================================\n",
      "Total params: 1699461 (6.48 MB)\n",
      "Trainable params: 1699461 (6.48 MB)\n",
      "Non-trainable params: 0 (0.00 Byte)\n",
      "_________________________________________________________________\n",
      "None\n"
     ]
    }
   ],
   "source": [
    "model_conv3d = Sequential()\n",
    "\n",
    "model_conv3d.add(Conv3D(8, kernel_size=(3,3,3), input_shape=INPUT_SHAPE, padding='same'))\n",
    "model_conv3d.add(Activation('relu'))\n",
    "model_conv3d.add(Dropout(0.25))\n",
    "\n",
    "model_conv3d.add(MaxPooling3D(pool_size=(2,2,2)))\n",
    "\n",
    "model_conv3d.add(Conv3D(16, kernel_size=(3,3,3), padding='same'))\n",
    "model_conv3d.add(Activation('relu'))\n",
    "\n",
    "model_conv3d.add(MaxPooling3D(pool_size=(2,2,2)))\n",
    "\n",
    "model_conv3d.add(Conv3D(32, kernel_size=(1,3,3), padding='same'))\n",
    "model_conv3d.add(Activation('relu'))\n",
    "\n",
    "model_conv3d.add(MaxPooling3D(pool_size=(2,2,2)))\n",
    "\n",
    "model_conv3d.add(Conv3D(64, kernel_size=(1,3,3), padding='same'))\n",
    "model_conv3d.add(Activation('relu'))\n",
    "model_conv3d.add(Dropout(0.25))\n",
    "\n",
    "model_conv3d.add(MaxPooling3D(pool_size=(2,2,2)))\n",
    "\n",
    "#Flatten Layers\n",
    "model_conv3d.add(Flatten())\n",
    "\n",
    "model_conv3d.add(Dense(256, activation='relu'))\n",
    "\n",
    "model_conv3d.add(Dense(128, activation='relu'))\n",
    "model_conv3d.add(Dropout(0.5))\n",
    "\n",
    "#softmax layer\n",
    "model_conv3d.add(Dense(5, activation='softmax'))\n",
    "\n",
    "\n",
    "optimiser = optimizers.Adam() #write your optimizer\n",
    "model_conv3d.compile(optimizer=optimiser, loss='categorical_crossentropy', metrics=['categorical_accuracy'])\n",
    "print (model_conv3d.summary())"
   ]
  },
  {
   "cell_type": "markdown",
   "metadata": {},
   "source": [
    "Now that you have written the model, the next step is to `compile` the model. When you print the `summary` of the model, you'll see the total number of parameters you have to train."
   ]
  },
  {
   "cell_type": "code",
   "execution_count": 10,
   "metadata": {
    "scrolled": true
   },
   "outputs": [
    {
     "name": "stderr",
     "output_type": "stream",
     "text": [
      "WARNING:absl:At this time, the v2.11+ optimizer `tf.keras.optimizers.Adam` runs slowly on M1/M2 Macs, please use the legacy Keras optimizer instead, located at `tf.keras.optimizers.legacy.Adam`.\n"
     ]
    }
   ],
   "source": [
    "optimiser = optimizers.Adam() #write your optimizer"
   ]
  },
  {
   "cell_type": "code",
   "execution_count": 11,
   "metadata": {},
   "outputs": [
    {
     "name": "stdout",
     "output_type": "stream",
     "text": [
      "Model: \"sequential\"\n",
      "_________________________________________________________________\n",
      " Layer (type)                Output Shape              Param #   \n",
      "=================================================================\n",
      " ResNet152V2 (TimeDistribut  (None, 30, 5, 5, 2048)    58331648  \n",
      " ed)                                                             \n",
      "                                                                 \n",
      " time_distributed (TimeDist  (None, 30, 2048)          0         \n",
      " ributed)                                                        \n",
      "                                                                 \n",
      " time_distributed_1 (TimeDi  (None, 30, 64)            131136    \n",
      " stributed)                                                      \n",
      "                                                                 \n",
      " dense_1 (Dense)             (None, 30, 256)           16640     \n",
      "                                                                 \n",
      " batch_normalization (Batch  (None, 30, 256)           1024      \n",
      " Normalization)                                                  \n",
      "                                                                 \n",
      " gru (GRU)                   (None, 30, 128)           148224    \n",
      "                                                                 \n",
      " batch_normalization_1 (Bat  (None, 30, 128)           512       \n",
      " chNormalization)                                                \n",
      "                                                                 \n",
      " flatten (Flatten)           (None, 3840)              0         \n",
      "                                                                 \n",
      " dense_2 (Dense)             (None, 256)               983296    \n",
      "                                                                 \n",
      " dense_3 (Dense)             (None, 5)                 1285      \n",
      "                                                                 \n"
     ]
    },
    {
     "name": "stdout",
     "output_type": "stream",
     "text": [
      "=================================================================\n",
      "Total params: 59613765 (227.41 MB)\n",
      "Trainable params: 1281349 (4.89 MB)\n",
      "Non-trainable params: 58332416 (222.52 MB)\n",
      "_________________________________________________________________\n",
      "None\n"
     ]
    }
   ],
   "source": [
    "resnet_model.compile(optimizer=optimiser, loss='categorical_crossentropy', metrics=['categorical_accuracy'])\n",
    "print(resnet_model.summary())"
   ]
  },
  {
   "cell_type": "code",
   "execution_count": 12,
   "metadata": {},
   "outputs": [
    {
     "name": "stderr",
     "output_type": "stream",
     "text": [
      "WARNING:absl:At this time, the v2.11+ optimizer `tf.keras.optimizers.Adam` runs slowly on M1/M2 Macs, please use the legacy Keras optimizer instead, located at `tf.keras.optimizers.legacy.Adam`.\n"
     ]
    },
    {
     "name": "stdout",
     "output_type": "stream",
     "text": [
      "Model: \"sequential_1\"\n",
      "_________________________________________________________________\n",
      " Layer (type)                Output Shape              Param #   \n",
      "=================================================================\n",
      " conv3d (Conv3D)             (None, 30, 160, 160, 8)   656       \n",
      "                                                                 \n",
      " activation (Activation)     (None, 30, 160, 160, 8)   0         \n",
      "                                                                 \n",
      " dropout (Dropout)           (None, 30, 160, 160, 8)   0         \n",
      "                                                                 \n",
      " max_pooling3d (MaxPooling3  (None, 15, 80, 80, 8)     0         \n",
      " D)                                                              \n",
      "                                                                 \n",
      " conv3d_1 (Conv3D)           (None, 15, 80, 80, 16)    3472      \n",
      "                                                                 \n",
      " activation_1 (Activation)   (None, 15, 80, 80, 16)    0         \n",
      "                                                                 \n",
      " max_pooling3d_1 (MaxPoolin  (None, 7, 40, 40, 16)     0         \n",
      " g3D)                                                            \n",
      "                                                                 \n",
      " conv3d_2 (Conv3D)           (None, 7, 40, 40, 32)     4640      \n",
      "                                                                 \n",
      " activation_2 (Activation)   (None, 7, 40, 40, 32)     0         \n",
      "                                                                 \n",
      " max_pooling3d_2 (MaxPoolin  (None, 3, 20, 20, 32)     0         \n",
      " g3D)                                                            \n",
      "                                                                 \n",
      " conv3d_3 (Conv3D)           (None, 3, 20, 20, 64)     18496     \n",
      "                                                                 \n",
      " activation_3 (Activation)   (None, 3, 20, 20, 64)     0         \n",
      "                                                                 \n",
      " dropout_1 (Dropout)         (None, 3, 20, 20, 64)     0         \n",
      "                                                                 \n",
      " max_pooling3d_3 (MaxPoolin  (None, 1, 10, 10, 64)     0         \n",
      " g3D)                                                            \n",
      "                                                                 \n",
      " flatten_1 (Flatten)         (None, 6400)              0         \n",
      "                                                                 \n",
      " dense_4 (Dense)             (None, 256)               1638656   \n",
      "                                                                 \n",
      " dense_5 (Dense)             (None, 128)               32896     \n",
      "                                                                 \n",
      " dropout_2 (Dropout)         (None, 128)               0         \n",
      "                                                                 \n",
      " dense_6 (Dense)             (None, 5)                 645       \n",
      "                                                                 \n",
      "=================================================================\n",
      "Total params: 1699461 (6.48 MB)\n",
      "Trainable params: 1699461 (6.48 MB)\n",
      "Non-trainable params: 0 (0.00 Byte)\n",
      "_________________________________________________________________\n",
      "None\n"
     ]
    }
   ],
   "source": [
    "model_conv3d.compile(optimizer=optimizers.Adam(), loss='categorical_crossentropy', metrics=['categorical_accuracy'])\n",
    "print(model_conv3d.summary())"
   ]
  },
  {
   "cell_type": "markdown",
   "metadata": {},
   "source": [
    "Let us create the `train_generator` and the `val_generator` which will be used in `.fit_generator`."
   ]
  },
  {
   "cell_type": "code",
   "execution_count": 13,
   "metadata": {},
   "outputs": [],
   "source": [
    "train_generator = generator(train_path, train_doc, batch_size)\n",
    "val_generator = generator(val_path, val_doc, batch_size)"
   ]
  },
  {
   "cell_type": "markdown",
   "metadata": {},
   "source": [
    "### Setup Experiment"
   ]
  },
  {
   "cell_type": "code",
   "execution_count": 14,
   "metadata": {},
   "outputs": [
    {
     "name": "stdout",
     "output_type": "stream",
     "text": [
      "WARNING:tensorflow:`period` argument is deprecated. Please use `save_freq` to specify the frequency in number of batches seen.\n"
     ]
    },
    {
     "name": "stderr",
     "output_type": "stream",
     "text": [
      "WARNING:tensorflow:`period` argument is deprecated. Please use `save_freq` to specify the frequency in number of batches seen.\n"
     ]
    }
   ],
   "source": [
    "curr_dt_time = datetime.datetime.now()\n",
    "\n",
    "# Generate the experiment name\n",
    "experiment_name = 'model_experiment' + '_' + str(curr_dt_time).replace(' ','').replace(':','_') + '/'\n",
    "    \n",
    "# Create folder\n",
    "if not os.path.exists(experiment_name):\n",
    "    os.mkdir(experiment_name)\n",
    "\n",
    "# Generate file pattern\n",
    "filepath = experiment_name + 'model-{epoch:05d}-{loss:.5f}-{categorical_accuracy:.5f}-{val_loss:.5f}-{val_categorical_accuracy:.5f}.keras'\n",
    "\n",
    "# Create model check point\n",
    "checkpoint = ModelCheckpoint(filepath, monitor='val_loss', verbose=1, save_best_only=True, save_weights_only=False, mode='auto', period=1)\n",
    "\n",
    "# Reduce learning rate when a metric has stopped improving.\n",
    "LR = ReduceLROnPlateau(monitor='val_loss', factor=0.3, patience=5, verbose=1, mode='auto') # write the REducelronplateau code here\n",
    "\n",
    "# Stop training when a monitored metric has stopped improving.\n",
    "callbacks_list = [checkpoint, LR]"
   ]
  },
  {
   "cell_type": "markdown",
   "metadata": {},
   "source": [
    "The `steps_per_epoch` and `validation_steps` are used by `fit_generator` to decide the number of next() calls it need to make."
   ]
  },
  {
   "cell_type": "code",
   "execution_count": 15,
   "metadata": {},
   "outputs": [],
   "source": [
    "if (num_train_sequences%batch_size) == 0:\n",
    "    steps_per_epoch = int(num_train_sequences/batch_size)\n",
    "else:\n",
    "    steps_per_epoch = (num_train_sequences//batch_size) + 1\n",
    "\n",
    "if (num_val_sequences%batch_size) == 0:\n",
    "    validation_steps = int(num_val_sequences/batch_size)\n",
    "else:\n",
    "    validation_steps = (num_val_sequences//batch_size) + 1"
   ]
  },
  {
   "cell_type": "markdown",
   "metadata": {},
   "source": [
    "Let us now fit the model. This will start training the model and with the help of the checkpoints, you'll be able to save the model at the end of each epoch."
   ]
  },
  {
   "cell_type": "markdown",
   "metadata": {},
   "source": [
    "### Train and tuning ResNet model"
   ]
  },
  {
   "cell_type": "code",
   "execution_count": 16,
   "metadata": {},
   "outputs": [
    {
     "name": "stdout",
     "output_type": "stream",
     "text": [
      "Source path =  data/train ; batch size = 10\n",
      "Epoch 1/30\n"
     ]
    },
    {
     "name": "stderr",
     "output_type": "stream",
     "text": [
      "2024-04-01 22:32:49.719129: I tensorflow/core/grappler/optimizers/custom_graph_optimizer_registry.cc:117] Plugin optimizer for device_type GPU is enabled.\n",
      "2024-04-01 22:32:50.335714: E tensorflow/core/grappler/optimizers/meta_optimizer.cc:961] model_pruner failed: INVALID_ARGUMENT: Graph does not contain terminal node Adam/AssignAddVariableOp.\n"
     ]
    },
    {
     "name": "stdout",
     "output_type": "stream",
     "text": [
      "64/67 [===========================>..] - ETA: 9s - loss: 5.6721 - categorical_accuracy: 0.3641 Batch:  67 Index: 10\n",
      "67/67 [==============================] - ETA: 0s - loss: 5.6699 - categorical_accuracy: 0.3725Source path =  data/val ; batch size = 10\n",
      "\n",
      "Epoch 1: val_loss improved from inf to 3.74662, saving model to model_experiment_2024-04-0122_32_44.069473/model-00001-5.66993-0.37255-3.74662-0.44000.keras\n",
      "67/67 [==============================] - 239s 3s/step - loss: 5.6699 - categorical_accuracy: 0.3725 - val_loss: 3.7466 - val_categorical_accuracy: 0.4400 - lr: 0.0010\n",
      "Epoch 2/30\n",
      "67/67 [==============================] - ETA: 0s - loss: 7.8931 - categorical_accuracy: 0.3980\n",
      "Epoch 2: val_loss did not improve from 3.74662\n",
      "67/67 [==============================] - 83s 1s/step - loss: 7.8931 - categorical_accuracy: 0.3980 - val_loss: 10.4405 - val_categorical_accuracy: 0.3600 - lr: 0.0010\n",
      "Epoch 3/30\n",
      "67/67 [==============================] - ETA: 0s - loss: 7.2562 - categorical_accuracy: 0.3632\n",
      "Epoch 3: val_loss did not improve from 3.74662\n",
      "67/67 [==============================] - 81s 1s/step - loss: 7.2562 - categorical_accuracy: 0.3632 - val_loss: 7.2299 - val_categorical_accuracy: 0.5200 - lr: 0.0010\n",
      "Epoch 4/30\n",
      "67/67 [==============================] - ETA: 0s - loss: 6.6421 - categorical_accuracy: 0.4229\n",
      "Epoch 4: val_loss did not improve from 3.74662\n",
      "67/67 [==============================] - 80s 1s/step - loss: 6.6421 - categorical_accuracy: 0.4229 - val_loss: 9.0095 - val_categorical_accuracy: 0.4200 - lr: 0.0010\n",
      "Epoch 5/30\n",
      "67/67 [==============================] - ETA: 0s - loss: 4.5047 - categorical_accuracy: 0.5174\n",
      "Epoch 5: val_loss did not improve from 3.74662\n",
      "67/67 [==============================] - 81s 1s/step - loss: 4.5047 - categorical_accuracy: 0.5174 - val_loss: 9.3820 - val_categorical_accuracy: 0.4700 - lr: 0.0010\n",
      "Epoch 6/30\n",
      "67/67 [==============================] - ETA: 0s - loss: 3.2679 - categorical_accuracy: 0.5771\n",
      "Epoch 6: val_loss did not improve from 3.74662\n",
      "\n",
      "Epoch 6: ReduceLROnPlateau reducing learning rate to 0.0003000000142492354.\n",
      "67/67 [==============================] - 80s 1s/step - loss: 3.2679 - categorical_accuracy: 0.5771 - val_loss: 4.9841 - val_categorical_accuracy: 0.4900 - lr: 0.0010\n",
      "Epoch 7/30\n",
      "67/67 [==============================] - ETA: 0s - loss: 2.3237 - categorical_accuracy: 0.6020\n",
      "Epoch 7: val_loss improved from 3.74662 to 2.50358, saving model to model_experiment_2024-04-0122_32_44.069473/model-00007-2.32371-0.60199-2.50358-0.59000.keras\n",
      "67/67 [==============================] - 82s 1s/step - loss: 2.3237 - categorical_accuracy: 0.6020 - val_loss: 2.5036 - val_categorical_accuracy: 0.5900 - lr: 3.0000e-04\n",
      "Epoch 8/30\n",
      "67/67 [==============================] - ETA: 0s - loss: 1.7065 - categorical_accuracy: 0.6368\n",
      "Epoch 8: val_loss improved from 2.50358 to 2.14232, saving model to model_experiment_2024-04-0122_32_44.069473/model-00008-1.70645-0.63682-2.14232-0.61000.keras\n",
      "67/67 [==============================] - 82s 1s/step - loss: 1.7065 - categorical_accuracy: 0.6368 - val_loss: 2.1423 - val_categorical_accuracy: 0.6100 - lr: 3.0000e-04\n",
      "Epoch 9/30\n",
      "67/67 [==============================] - ETA: 0s - loss: 1.5118 - categorical_accuracy: 0.6667\n",
      "Epoch 9: val_loss improved from 2.14232 to 1.93641, saving model to model_experiment_2024-04-0122_32_44.069473/model-00009-1.51181-0.66667-1.93641-0.56000.keras\n",
      "67/67 [==============================] - 83s 1s/step - loss: 1.5118 - categorical_accuracy: 0.6667 - val_loss: 1.9364 - val_categorical_accuracy: 0.5600 - lr: 3.0000e-04\n",
      "Epoch 10/30\n",
      "67/67 [==============================] - ETA: 0s - loss: 1.7551 - categorical_accuracy: 0.6219\n",
      "Epoch 10: val_loss did not improve from 1.93641\n",
      "67/67 [==============================] - 81s 1s/step - loss: 1.7551 - categorical_accuracy: 0.6219 - val_loss: 2.1265 - val_categorical_accuracy: 0.6800 - lr: 3.0000e-04\n",
      "Epoch 11/30\n",
      "67/67 [==============================] - ETA: 0s - loss: 1.2234 - categorical_accuracy: 0.6617\n",
      "Epoch 11: val_loss improved from 1.93641 to 1.63410, saving model to model_experiment_2024-04-0122_32_44.069473/model-00011-1.22341-0.66169-1.63410-0.63000.keras\n",
      "67/67 [==============================] - 82s 1s/step - loss: 1.2234 - categorical_accuracy: 0.6617 - val_loss: 1.6341 - val_categorical_accuracy: 0.6300 - lr: 3.0000e-04\n",
      "Epoch 12/30\n",
      "67/67 [==============================] - ETA: 0s - loss: 1.1270 - categorical_accuracy: 0.6915\n",
      "Epoch 12: val_loss improved from 1.63410 to 1.51118, saving model to model_experiment_2024-04-0122_32_44.069473/model-00012-1.12704-0.69154-1.51118-0.68000.keras\n",
      "67/67 [==============================] - 82s 1s/step - loss: 1.1270 - categorical_accuracy: 0.6915 - val_loss: 1.5112 - val_categorical_accuracy: 0.6800 - lr: 3.0000e-04\n",
      "Epoch 13/30\n",
      "67/67 [==============================] - ETA: 0s - loss: 0.9057 - categorical_accuracy: 0.7363\n",
      "Epoch 13: val_loss did not improve from 1.51118\n",
      "67/67 [==============================] - 80s 1s/step - loss: 0.9057 - categorical_accuracy: 0.7363 - val_loss: 2.6169 - val_categorical_accuracy: 0.5300 - lr: 3.0000e-04\n",
      "Epoch 14/30\n",
      "67/67 [==============================] - ETA: 0s - loss: 1.2927 - categorical_accuracy: 0.6468\n",
      "Epoch 14: val_loss did not improve from 1.51118\n",
      "67/67 [==============================] - 81s 1s/step - loss: 1.2927 - categorical_accuracy: 0.6468 - val_loss: 1.7048 - val_categorical_accuracy: 0.6900 - lr: 3.0000e-04\n",
      "Epoch 15/30\n",
      "67/67 [==============================] - ETA: 0s - loss: 1.0418 - categorical_accuracy: 0.6816\n",
      "Epoch 15: val_loss did not improve from 1.51118\n",
      "67/67 [==============================] - 80s 1s/step - loss: 1.0418 - categorical_accuracy: 0.6816 - val_loss: 1.9008 - val_categorical_accuracy: 0.6200 - lr: 3.0000e-04\n",
      "Epoch 16/30\n",
      "67/67 [==============================] - ETA: 0s - loss: 0.8076 - categorical_accuracy: 0.7512\n",
      "Epoch 16: val_loss did not improve from 1.51118\n",
      "67/67 [==============================] - 80s 1s/step - loss: 0.8076 - categorical_accuracy: 0.7512 - val_loss: 2.3158 - val_categorical_accuracy: 0.5900 - lr: 3.0000e-04\n",
      "Epoch 17/30\n",
      "67/67 [==============================] - ETA: 0s - loss: 1.2758 - categorical_accuracy: 0.6269\n",
      "Epoch 17: val_loss did not improve from 1.51118\n",
      "\n",
      "Epoch 17: ReduceLROnPlateau reducing learning rate to 9.000000427477062e-05.\n",
      "67/67 [==============================] - 81s 1s/step - loss: 1.2758 - categorical_accuracy: 0.6269 - val_loss: 1.9544 - val_categorical_accuracy: 0.5500 - lr: 3.0000e-04\n",
      "Epoch 18/30\n",
      "67/67 [==============================] - ETA: 0s - loss: 1.0086 - categorical_accuracy: 0.6915\n",
      "Epoch 18: val_loss did not improve from 1.51118\n",
      "67/67 [==============================] - 81s 1s/step - loss: 1.0086 - categorical_accuracy: 0.6915 - val_loss: 2.1113 - val_categorical_accuracy: 0.5800 - lr: 9.0000e-05\n",
      "Epoch 19/30\n",
      "67/67 [==============================] - ETA: 0s - loss: 0.6899 - categorical_accuracy: 0.7761\n",
      "Epoch 19: val_loss did not improve from 1.51118\n",
      "67/67 [==============================] - 80s 1s/step - loss: 0.6899 - categorical_accuracy: 0.7761 - val_loss: 2.0362 - val_categorical_accuracy: 0.5900 - lr: 9.0000e-05\n",
      "Epoch 20/30\n",
      "67/67 [==============================] - ETA: 0s - loss: 0.6123 - categorical_accuracy: 0.8259\n",
      "Epoch 20: val_loss did not improve from 1.51118\n",
      "67/67 [==============================] - 80s 1s/step - loss: 0.6123 - categorical_accuracy: 0.8259 - val_loss: 1.6334 - val_categorical_accuracy: 0.5900 - lr: 9.0000e-05\n",
      "Epoch 21/30\n",
      "67/67 [==============================] - ETA: 0s - loss: 0.6663 - categorical_accuracy: 0.8109\n",
      "Epoch 21: val_loss did not improve from 1.51118\n",
      "67/67 [==============================] - 80s 1s/step - loss: 0.6663 - categorical_accuracy: 0.8109 - val_loss: 1.7794 - val_categorical_accuracy: 0.6200 - lr: 9.0000e-05\n",
      "Epoch 22/30\n",
      "67/67 [==============================] - ETA: 0s - loss: 0.8809 - categorical_accuracy: 0.7463\n",
      "Epoch 22: val_loss did not improve from 1.51118\n",
      "\n",
      "Epoch 22: ReduceLROnPlateau reducing learning rate to 2.700000040931627e-05.\n",
      "67/67 [==============================] - 80s 1s/step - loss: 0.8809 - categorical_accuracy: 0.7463 - val_loss: 1.9004 - val_categorical_accuracy: 0.5600 - lr: 9.0000e-05\n",
      "Epoch 23/30\n",
      "67/67 [==============================] - ETA: 0s - loss: 0.7310 - categorical_accuracy: 0.7761\n",
      "Epoch 23: val_loss did not improve from 1.51118\n",
      "67/67 [==============================] - 80s 1s/step - loss: 0.7310 - categorical_accuracy: 0.7761 - val_loss: 1.5744 - val_categorical_accuracy: 0.6400 - lr: 2.7000e-05\n",
      "Epoch 24/30\n",
      "67/67 [==============================] - ETA: 0s - loss: 0.5102 - categorical_accuracy: 0.8060\n",
      "Epoch 24: val_loss did not improve from 1.51118\n",
      "67/67 [==============================] - 80s 1s/step - loss: 0.5102 - categorical_accuracy: 0.8060 - val_loss: 1.7598 - val_categorical_accuracy: 0.6000 - lr: 2.7000e-05\n",
      "Epoch 25/30\n",
      "67/67 [==============================] - ETA: 0s - loss: 0.6241 - categorical_accuracy: 0.8010\n",
      "Epoch 25: val_loss did not improve from 1.51118\n",
      "67/67 [==============================] - 81s 1s/step - loss: 0.6241 - categorical_accuracy: 0.8010 - val_loss: 1.6688 - val_categorical_accuracy: 0.5700 - lr: 2.7000e-05\n",
      "Epoch 26/30\n",
      "67/67 [==============================] - ETA: 0s - loss: 0.5942 - categorical_accuracy: 0.8159\n",
      "Epoch 26: val_loss did not improve from 1.51118\n",
      "67/67 [==============================] - 80s 1s/step - loss: 0.5942 - categorical_accuracy: 0.8159 - val_loss: 1.6510 - val_categorical_accuracy: 0.6000 - lr: 2.7000e-05\n",
      "Epoch 27/30\n",
      "67/67 [==============================] - ETA: 0s - loss: 0.5490 - categorical_accuracy: 0.8109\n",
      "Epoch 27: val_loss did not improve from 1.51118\n",
      "\n",
      "Epoch 27: ReduceLROnPlateau reducing learning rate to 8.100000013655517e-06.\n",
      "67/67 [==============================] - 80s 1s/step - loss: 0.5490 - categorical_accuracy: 0.8109 - val_loss: 1.6892 - val_categorical_accuracy: 0.5800 - lr: 2.7000e-05\n",
      "Epoch 28/30\n",
      "67/67 [==============================] - ETA: 0s - loss: 0.7553 - categorical_accuracy: 0.7413\n",
      "Epoch 28: val_loss did not improve from 1.51118\n",
      "67/67 [==============================] - 80s 1s/step - loss: 0.7553 - categorical_accuracy: 0.7413 - val_loss: 2.0643 - val_categorical_accuracy: 0.5000 - lr: 8.1000e-06\n",
      "Epoch 29/30\n",
      "67/67 [==============================] - ETA: 0s - loss: 0.6932 - categorical_accuracy: 0.7711\n",
      "Epoch 29: val_loss did not improve from 1.51118\n",
      "67/67 [==============================] - 80s 1s/step - loss: 0.6932 - categorical_accuracy: 0.7711 - val_loss: 1.9374 - val_categorical_accuracy: 0.5800 - lr: 8.1000e-06\n",
      "Epoch 30/30\n",
      "67/67 [==============================] - ETA: 0s - loss: 0.4646 - categorical_accuracy: 0.8259\n",
      "Epoch 30: val_loss improved from 1.51118 to 1.42201, saving model to model_experiment_2024-04-0122_32_44.069473/model-00030-0.46462-0.82587-1.42201-0.65000.keras\n",
      "67/67 [==============================] - 81s 1s/step - loss: 0.4646 - categorical_accuracy: 0.8259 - val_loss: 1.4220 - val_categorical_accuracy: 0.6500 - lr: 8.1000e-06\n"
     ]
    }
   ],
   "source": [
    "resnet_history=resnet_model.fit(\n",
    "    generator(train_path, train_doc, batch_size), \n",
    "    validation_data=generator(val_path, val_doc, batch_size), validation_steps=validation_steps,\n",
    "    steps_per_epoch=steps_per_epoch, epochs=num_epochs, verbose=1, callbacks=callbacks_list, class_weight=None,\n",
    "    workers=1, initial_epoch=0, max_queue_size=3000\n",
    "    )"
   ]
  },
  {
   "cell_type": "code",
   "execution_count": 17,
   "metadata": {},
   "outputs": [
    {
     "data": {
      "text/plain": [
       "<Figure size 1000x1000 with 0 Axes>"
      ]
     },
     "metadata": {},
     "output_type": "display_data"
    },
    {
     "data": {
      "image/png": "[encoded data removed]",
      "text/plain": [
       "<Figure size 800x800 with 2 Axes>"
      ]
     },
     "metadata": {},
     "output_type": "display_data"
    }
   ],
   "source": [
    "import matplotlib.pyplot as plt\n",
    "%matplotlib inline\n",
    "\n",
    "plt.figure(figsize = (10,10))\n",
    "\n",
    "acc = resnet_history.history['categorical_accuracy']\n",
    "\n",
    "val_acc = resnet_history.history['val_categorical_accuracy']\n",
    "\n",
    "loss = resnet_history.history['loss']\n",
    "val_loss = resnet_history.history['val_loss']\n",
    "\n",
    "epochs_range = range(num_epochs)\n",
    "\n",
    "plt.figure(figsize=(8, 8))\n",
    "plt.subplot(1, 2, 1)\n",
    "plt.plot(epochs_range, acc, label='Training Accuracy')\n",
    "plt.plot(epochs_range, val_acc, label='Validation Accuracy')\n",
    "plt.legend(loc='lower right')\n",
    "plt.title('Training and Validation Accuracy')\n",
    "\n",
    "plt.subplot(1, 2, 2)\n",
    "plt.plot(epochs_range, loss, label='Training Loss')\n",
    "plt.plot(epochs_range, val_loss, label='Validation Loss')\n",
    "plt.legend(loc='upper right')\n",
    "plt.title('Training and Validation Loss')\n",
    "plt.show()"
   ]
  },
  {
   "cell_type": "markdown",
   "metadata": {},
   "source": [
    "### Train and tuning 3D Convolutional Model"
   ]
  },
  {
   "cell_type": "code",
   "execution_count": null,
   "metadata": {},
   "outputs": [],
   "source": [
    "history_conv3d=model_conv3d.fit(generator(train_path, train_doc, batch_size), steps_per_epoch=steps_per_epoch, epochs=num_epochs, verbose=1, \n",
    "                    callbacks=callbacks_list, validation_data=generator(val_path, val_doc, batch_size), \n",
    "                    validation_steps=validation_steps, class_weight=None, workers=1, initial_epoch=0)"
   ]
  },
  {
   "cell_type": "code",
   "execution_count": null,
   "metadata": {},
   "outputs": [],
   "source": [
    "import matplotlib.pyplot as plt\n",
    "%matplotlib inline\n",
    "\n",
    "plt.figure(figsize = (10,10))\n",
    "\n",
    "acc = history_conv3d.history['categorical_accuracy']\n",
    "\n",
    "val_acc = history_conv3d.history['val_categorical_accuracy']\n",
    "\n",
    "loss = history_conv3d.history['loss']\n",
    "val_loss = history_conv3d.history['val_loss']\n",
    "\n",
    "epochs_range = range(num_epochs)\n",
    "\n",
    "plt.figure(figsize=(8, 8))\n",
    "plt.subplot(1, 2, 1)\n",
    "plt.plot(epochs_range, acc, label='Training Accuracy')\n",
    "plt.plot(epochs_range, val_acc, label='Validation Accuracy')\n",
    "plt.legend(loc='lower right')\n",
    "plt.title('Training and Validation Accuracy')\n",
    "\n",
    "plt.subplot(1, 2, 2)\n",
    "plt.plot(epochs_range, loss, label='Training Loss')\n",
    "plt.plot(epochs_range, val_loss, label='Validation Loss')\n",
    "plt.legend(loc='upper right')\n",
    "plt.title('Training and Validation Loss')\n",
    "plt.show()"
   ]
  }
 ],
 "metadata": {
  "kernelspec": {
   "display_name": "Python 3",
   "language": "python",
   "name": "python3"
  },
  "language_info": {
   "codemirror_mode": {
    "name": "ipython",
    "version": 3
   },
   "file_extension": ".py",
   "mimetype": "text/x-python",
   "name": "python",
   "nbconvert_exporter": "python",
   "pygments_lexer": "ipython3",
   "version": "3.9.17"
  }
 },
 "nbformat": 4,
 "nbformat_minor": 2
}
