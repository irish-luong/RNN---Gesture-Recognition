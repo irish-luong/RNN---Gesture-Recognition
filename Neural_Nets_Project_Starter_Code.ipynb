{
 "cells": [
  {
   "cell_type": "markdown",
   "metadata": {},
   "source": [
    "# Gesture Recognition\n",
    "In this group project, you are going to build a 3D Conv model that will be able to predict the 5 gestures correctly. Please import the following libraries to get started."
   ]
  },
  {
   "cell_type": "code",
   "execution_count": 1,
   "metadata": {},
   "outputs": [],
   "source": [
    "import numpy as np\n",
    "import os\n",
    "import datetime\n",
    "import os\n",
    "\n",
    "import cv2\n",
    "\n",
    "try:\n",
    "    from scipy.misc import imread\n",
    "except:\n",
    "    from imageio.v2 import imread\n",
    "\n"
   ]
  },
  {
   "cell_type": "markdown",
   "metadata": {},
   "source": [
    "We set the random seed so that the results don't vary drastically."
   ]
  },
  {
   "cell_type": "code",
   "execution_count": 2,
   "metadata": {},
   "outputs": [],
   "source": [
    "np.random.seed(30)\n",
    "import random as rn\n",
    "rn.seed(30)\n",
    "from keras import backend as K\n",
    "import tensorflow as tf\n",
    "\n",
    "try:\n",
    "    tf.set_random_seed(30)\n",
    "except:\n",
    "    tf.random.set_seed(30)"
   ]
  },
  {
   "cell_type": "markdown",
   "metadata": {},
   "source": [
    "In this block, you read the folder names for training and validation. You also set the `batch_size` here. Note that you set the batch size in such a way that you are able to use the GPU in full capacity. You keep increasing the batch size until the machine throws an error."
   ]
  },
  {
   "cell_type": "code",
   "execution_count": 3,
   "metadata": {},
   "outputs": [],
   "source": [
    "# train_doc = np.random.permutation(open('/notebooks/storage/Final_data/Collated_training/train.csv').readlines())\n",
    "# val_doc = np.random.permutation(open('/notebooks/storage/Final_data/Collated_training/val.csv').readlines())\n",
    "\n",
    "train_doc = np.random.permutation(open('./data/train.csv').readlines())\n",
    "val_doc = np.random.permutation(open('./data/val.csv').readlines())\n",
    " \n",
    "batch_size = 10 #experiment with the batch size\n",
    "data_dir = '.data'\n",
    "train_path = f'{data_dir}/train'\n",
    "val_path = f'{data_dir}/val'"
   ]
  },
  {
   "cell_type": "markdown",
   "metadata": {},
   "source": [
    "### CONSTANT"
   ]
  },
  {
   "cell_type": "code",
   "execution_count": 4,
   "metadata": {},
   "outputs": [
    {
     "name": "stdout",
     "output_type": "stream",
     "text": [
      "[0, 1, 2, 3, 4, 5, 6, 7, 8, 9, 10, 11, 12, 13, 14, 15, 16, 17, 18, 19, 20, 21, 22, 23, 24, 25, 26, 27, 28, 29]\n",
      "[0, 1, 2, 3, 4, 5, 6, 7, 8, 9, 10, 11, 12, 13, 14, 15, 16, 17, 18, 19, 20, 21, 22, 23, 24, 25, 26, 27, 28, 29]\n"
     ]
    }
   ],
   "source": [
    "#  Constant\n",
    "TOTAL_IMAGE = 30\n",
    "IMAGE_HEIGHT = 160\n",
    "IMAGE_WIDTH = 160\n",
    "CHANNELS = 3\n",
    "NUM_CLASSES = 5 # number of classes\n",
    "INPUT_SHAPE=(TOTAL_IMAGE, IMAGE_WIDTH, IMAGE_HEIGHT, CHANNELS)\n",
    "\n",
    "\n",
    "print(list(range(TOTAL_IMAGE)))\n",
    "\n",
    "print([x for x in range(0,TOTAL_IMAGE)])\n"
   ]
  },
  {
   "cell_type": "markdown",
   "metadata": {},
   "source": [
    "## Generator\n",
    "This is one of the most important part of the code. The overall structure of the generator has been given. In the generator, you are going to preprocess the images as you have images of 2 different dimensions as well as create a batch of video frames. You have to experiment with `img_idx`, `y`,`z` and normalization such that you get high accuracy."
   ]
  },
  {
   "cell_type": "code",
   "execution_count": 5,
   "metadata": {},
   "outputs": [],
   "source": [
    "def generator(source_path, folder_list, batch_size):\n",
    "    print( 'Source path = ', source_path, '; batch size =', batch_size)\n",
    "    img_idx = list(range(TOTAL_IMAGE))\n",
    "    while True:\n",
    "        t = np.random.permutation(folder_list)\n",
    "        num_batches = len(t) // batch_size # calculate the number of batches\n",
    "        for batch in range(num_batches): # we iterate over the number of batches\n",
    "            batch_data = np.zeros((batch_size, TOTAL_IMAGE, IMAGE_WIDTH, IMAGE_HEIGHT, CHANNELS)) # x is the number of images you use for each video, (y,z) is the final size of the input images and 3 is the number of channels RGB\n",
    "            batch_labels = np.zeros((batch_size, NUM_CLASSES)) # batch_labels is the one hot representation of the output\n",
    "            for folder in range(batch_size): # iterate over the batch_size\n",
    "                imgs = os.listdir(source_path+'/'+ t[folder + (batch*batch_size)].split(';')[0]) # read all the images in the folder\n",
    "                for idx,item in enumerate(img_idx): #  Iterate iver the frames/images of a folder to read them in\n",
    "                    image = imread(source_path+'/'+ t[folder + (batch*batch_size)].strip().split(';')[0]+'/'+imgs[item]).astype(np.float32)\n",
    "                    \n",
    "                    #crop the images and resize them. Note that the images are of 2 different shape \n",
    "                    #and the conv3D will throw error if the inputs in a batch have different shapes\n",
    "                    temp = cv2.resize(image,(IMAGE_WIDTH,IMAGE_HEIGHT))\n",
    "                    temp = temp/255 #Normalize data\n",
    "                    \n",
    "                    batch_data[folder,idx,:,:,0] = (temp[:,:,0]) #normalise and feed in the image\n",
    "                    batch_data[folder,idx,:,:,1] = (temp[:,:,1]) #normalise and feed in the image\n",
    "                    batch_data[folder,idx,:,:,2] = (temp[:,:,2]) #normalise and feed in the image\n",
    "                    \n",
    "                batch_labels[folder, int(t[folder + (batch*batch_size)].strip().split(';')[2])] = 1\n",
    "            yield batch_data, batch_labels #you yield the batch_data and the batch_labels, remember what does yield do\n",
    "\n",
    "        \n",
    "        # write the code for the remaining data points which are left after full batches\n",
    "        if (len(folder_list) != batch_size*num_batches):\n",
    "            print(\"Batch: \",num_batches+1,\"Index:\", batch_size)\n",
    "            batch_size = len(folder_list) - (batch_size*num_batches)\n",
    "            batch_data = np.zeros((batch_size, TOTAL_IMAGE, IMAGE_WIDTH, IMAGE_HEIGHT, CHANNELS)) # x is the number of images you use for each video, (y,z) is the final size of the input images and 3 is the number of channels RGB\n",
    "            batch_labels = np.zeros((batch_size, NUM_CLASSES)) # batch_labels is the one hot representation of the output\n",
    "            for folder in range(batch_size): # iterate over the batch_size\n",
    "                imgs = os.listdir(source_path+'/'+ t[folder + (batch*batch_size)].split(';')[0]) # read all the images in the folder\n",
    "                for idx,item in enumerate(img_idx): #  Iterate iver the frames/images of a folder to read them in\n",
    "                    image = imread(source_path+'/'+ t[folder + (batch*batch_size)].strip().split(';')[0]+'/'+imgs[item]).astype(np.float32)\n",
    "                    \n",
    "                    #crop the images and resize them. Note that the images are of 2 different shape \n",
    "                    #and the conv3D will throw error if the inputs in a batch have different shapes\n",
    "                    temp = cv2.resize(image,(IMAGE_WIDTH, IMAGE_HEIGHT))\n",
    "                    temp = temp/255 #Normalize data\n",
    "                    \n",
    "                    batch_data[folder,idx,:,:,0] = (temp[:,:,0])\n",
    "                    batch_data[folder,idx,:,:,1] = (temp[:,:,1])\n",
    "                    batch_data[folder,idx,:,:,2] = (temp[:,:,2])\n",
    "                   \n",
    "                batch_labels[folder, int(t[folder + (batch*batch_size)].strip().split(';')[2])] = 1\n",
    "            yield batch_data, batch_labels"
   ]
  },
  {
   "cell_type": "markdown",
   "metadata": {},
   "source": [
    "Note here that a video is represented above in the generator as (number of images, height, width, number of channels). Take this into consideration while creating the model architecture."
   ]
  },
  {
   "cell_type": "code",
   "execution_count": 6,
   "metadata": {},
   "outputs": [
    {
     "name": "stdout",
     "output_type": "stream",
     "text": [
      "# training sequences = 663\n",
      "# validation sequences = 100\n",
      "# epochs = 50\n"
     ]
    }
   ],
   "source": [
    "curr_dt_time = datetime.datetime.now()\n",
    "train_path = './data/train'\n",
    "val_path = './data/val'\n",
    "num_train_sequences = len(train_doc)\n",
    "print('# training sequences =', num_train_sequences)\n",
    "num_val_sequences = len(val_doc)\n",
    "print('# validation sequences =', num_val_sequences)\n",
    "num_epochs = 50 # choose the number of epochs\n",
    "print ('# epochs =', num_epochs)"
   ]
  },
  {
   "cell_type": "markdown",
   "metadata": {},
   "source": [
    "## Model\n",
    "Here you make the model using different functionalities that Keras provides. Remember to use `Conv3D` and `MaxPooling3D` and not `Conv2D` and `Maxpooling2D` for a 3D convolution model. You would want to use `TimeDistributed` while building a Conv2D + RNN model. Also remember that the last layer is the softmax. Design the network in such a way that the model is able to give good accuracy on the least number of parameters so that it can fit in the memory of the webcam."
   ]
  },
  {
   "cell_type": "code",
   "execution_count": 7,
   "metadata": {},
   "outputs": [],
   "source": [
    "from keras.models import Sequential, Model\n",
    "from keras.layers import Dense, GRU, Flatten, TimeDistributed, Flatten, BatchNormalization, Activation, GlobalAveragePooling2D\n",
    "from keras.layers import Conv3D, MaxPooling3D\n",
    "from keras.callbacks import ModelCheckpoint, ReduceLROnPlateau\n",
    "from keras import optimizers\n",
    "from keras.models import save_model, load_model\n",
    "\n",
    "\n",
    "\n",
    "#write your model here"
   ]
  },
  {
   "cell_type": "code",
   "execution_count": 8,
   "metadata": {},
   "outputs": [
    {
     "name": "stderr",
     "output_type": "stream",
     "text": [
      "2024-03-30 21:48:38.768464: I metal_plugin/src/device/metal_device.cc:1154] Metal device set to: Apple M1 Pro\n",
      "2024-03-30 21:48:38.768483: I metal_plugin/src/device/metal_device.cc:296] systemMemory: 16.00 GB\n",
      "2024-03-30 21:48:38.768489: I metal_plugin/src/device/metal_device.cc:313] maxCacheSize: 5.33 GB\n",
      "2024-03-30 21:48:38.768522: I tensorflow/core/common_runtime/pluggable_device/pluggable_device_factory.cc:306] Could not identify NUMA node of platform GPU ID 0, defaulting to 0. Your kernel may not have been built with NUMA support.\n",
      "2024-03-30 21:48:38.768536: I tensorflow/core/common_runtime/pluggable_device/pluggable_device_factory.cc:272] Created TensorFlow device (/job:localhost/replica:0/task:0/device:GPU:0 with 0 MB memory) -> physical PluggableDevice (device: 0, name: METAL, pci bus id: <undefined>)\n"
     ]
    }
   ],
   "source": [
    "from keras.applications import ResNet152V2\n",
    "\n",
    "# EfficientNetB7 with rnn gru units\n",
    "model = Sequential()\n",
    "model.add(TimeDistributed(ResNet152V2(weights='imagenet', include_top=False),input_shape=INPUT_SHAPE, name='ResNet152V2', trainable=False))\n",
    "model.add(TimeDistributed(GlobalAveragePooling2D()))\n",
    "model.add(TimeDistributed(Dense(64, activation='relu')))\n",
    "model.add(Dense(256, activation='relu'))\n",
    "model.add(BatchNormalization())\n",
    "model.add(GRU(128, return_sequences=True))\n",
    "model.add(BatchNormalization())\n",
    "model.add(Flatten())\n",
    "model.add(Dense(256, activation='relu'))\n",
    "model.add(Dense(NUM_CLASSES, activation='softmax'))"
   ]
  },
  {
   "cell_type": "markdown",
   "metadata": {},
   "source": [
    "Now that you have written the model, the next step is to `compile` the model. When you print the `summary` of the model, you'll see the total number of parameters you have to train."
   ]
  },
  {
   "cell_type": "code",
   "execution_count": 9,
   "metadata": {
    "scrolled": true
   },
   "outputs": [
    {
     "name": "stderr",
     "output_type": "stream",
     "text": [
      "WARNING:absl:At this time, the v2.11+ optimizer `tf.keras.optimizers.Adam` runs slowly on M1/M2 Macs, please use the legacy Keras optimizer instead, located at `tf.keras.optimizers.legacy.Adam`.\n"
     ]
    },
    {
     "name": "stdout",
     "output_type": "stream",
     "text": [
      "Model: \"sequential\"\n",
      "_________________________________________________________________\n",
      " Layer (type)                Output Shape              Param #   \n",
      "=================================================================\n",
      " ResNet152V2 (TimeDistribut  (None, 30, 5, 5, 2048)    58331648  \n",
      " ed)                                                             \n",
      "                                                                 \n",
      " time_distributed (TimeDist  (None, 30, 2048)          0         \n",
      " ributed)                                                        \n",
      "                                                                 \n",
      " time_distributed_1 (TimeDi  (None, 30, 64)            131136    \n",
      " stributed)                                                      \n",
      "                                                                 \n",
      " dense_1 (Dense)             (None, 30, 256)           16640     \n",
      "                                                                 \n",
      " batch_normalization (Batch  (None, 30, 256)           1024      \n",
      " Normalization)                                                  \n",
      "                                                                 \n",
      " gru (GRU)                   (None, 30, 128)           148224    \n",
      "                                                                 \n",
      " batch_normalization_1 (Bat  (None, 30, 128)           512       \n",
      " chNormalization)                                                \n",
      "                                                                 \n",
      " flatten (Flatten)           (None, 3840)              0         \n",
      "                                                                 \n",
      " dense_2 (Dense)             (None, 256)               983296    \n",
      "                                                                 \n",
      " dense_3 (Dense)             (None, 5)                 1285      \n",
      "                                                                 \n",
      "=================================================================\n",
      "Total params: 59613765 (227.41 MB)\n",
      "Trainable params: 1281349 (4.89 MB)\n",
      "Non-trainable params: 58332416 (222.52 MB)\n",
      "_________________________________________________________________\n",
      "None\n"
     ]
    }
   ],
   "source": [
    "optimiser = optimizers.Adam() #write your optimizer\n",
    "model.compile(optimizer=optimiser, loss='categorical_crossentropy', metrics=['categorical_accuracy'])\n",
    "print (model.summary())"
   ]
  },
  {
   "cell_type": "markdown",
   "metadata": {},
   "source": [
    "Let us create the `train_generator` and the `val_generator` which will be used in `.fit_generator`."
   ]
  },
  {
   "cell_type": "code",
   "execution_count": 10,
   "metadata": {},
   "outputs": [],
   "source": [
    "train_generator = generator(train_path, train_doc, batch_size)\n",
    "val_generator = generator(val_path, val_doc, batch_size)"
   ]
  },
  {
   "cell_type": "code",
   "execution_count": 11,
   "metadata": {},
   "outputs": [
    {
     "name": "stdout",
     "output_type": "stream",
     "text": [
      "WARNING:tensorflow:`period` argument is deprecated. Please use `save_freq` to specify the frequency in number of batches seen.\n"
     ]
    },
    {
     "name": "stderr",
     "output_type": "stream",
     "text": [
      "WARNING:tensorflow:`period` argument is deprecated. Please use `save_freq` to specify the frequency in number of batches seen.\n"
     ]
    }
   ],
   "source": [
    "model_name = 'model_init' + '_' + str(curr_dt_time).replace(' ','').replace(':','_') + '/'\n",
    "    \n",
    "if not os.path.exists(model_name):\n",
    "    os.mkdir(model_name)\n",
    "        \n",
    "filepath = model_name + 'model-{epoch:05d}-{loss:.5f}-{categorical_accuracy:.5f}-{val_loss:.5f}-{val_categorical_accuracy:.5f}.h5'\n",
    "\n",
    "checkpoint = ModelCheckpoint(filepath, monitor='val_loss', verbose=1, save_best_only=False, save_weights_only=False, mode='auto', period=1)\n",
    "\n",
    "LR = ReduceLROnPlateau(monitor='val_loss', factor=0.2, patience=5, verbose=1, mode='auto') # write the REducelronplateau code here\n",
    "callbacks_list = [checkpoint, LR]"
   ]
  },
  {
   "cell_type": "markdown",
   "metadata": {},
   "source": [
    "The `steps_per_epoch` and `validation_steps` are used by `fit_generator` to decide the number of next() calls it need to make."
   ]
  },
  {
   "cell_type": "code",
   "execution_count": 12,
   "metadata": {},
   "outputs": [],
   "source": [
    "if (num_train_sequences%batch_size) == 0:\n",
    "    steps_per_epoch = int(num_train_sequences/batch_size)\n",
    "else:\n",
    "    steps_per_epoch = (num_train_sequences//batch_size) + 1\n",
    "\n",
    "if (num_val_sequences%batch_size) == 0:\n",
    "    validation_steps = int(num_val_sequences/batch_size)\n",
    "else:\n",
    "    validation_steps = (num_val_sequences//batch_size) + 1"
   ]
  },
  {
   "cell_type": "markdown",
   "metadata": {},
   "source": [
    "Let us now fit the model. This will start training the model and with the help of the checkpoints, you'll be able to save the model at the end of each epoch."
   ]
  },
  {
   "cell_type": "code",
   "execution_count": 13,
   "metadata": {},
   "outputs": [
    {
     "name": "stdout",
     "output_type": "stream",
     "text": [
      "Source path =  ./data/train ; batch size = 10\n",
      "Epoch 1/50\n"
     ]
    },
    {
     "name": "stderr",
     "output_type": "stream",
     "text": [
      "2024-03-30 21:48:47.622719: I tensorflow/core/grappler/optimizers/custom_graph_optimizer_registry.cc:117] Plugin optimizer for device_type GPU is enabled.\n",
      "2024-03-30 21:48:48.213285: E tensorflow/core/grappler/optimizers/meta_optimizer.cc:961] model_pruner failed: INVALID_ARGUMENT: Graph does not contain terminal node Adam/AssignAddVariableOp.\n"
     ]
    },
    {
     "name": "stdout",
     "output_type": "stream",
     "text": [
      "64/67 [===========================>..] - ETA: 9s - loss: 5.5175 - categorical_accuracy: 0.4125 Batch:  67 Index: 10\n",
      "67/67 [==============================] - ETA: 0s - loss: 5.5138 - categorical_accuracy: 0.4133Source path =  ./data/val ; batch size = 10\n",
      "\n",
      "Epoch 1: saving model to model_init_2024-03-3021_48_38.755725/model-00001-5.51382-0.41327-8.40475-0.25000.h5\n"
     ]
    },
    {
     "name": "stderr",
     "output_type": "stream",
     "text": [
      "/Users/geotech/Documents/max/upgrad/course_5/venv-metal/lib/python3.9/site-packages/keras/src/engine/training.py:3103: UserWarning: You are saving your model as an HDF5 file via `model.save()`. This file format is considered legacy. We recommend using instead the native Keras format, e.g. `model.save('my_model.keras')`.\n",
      "  saving_api.save_model(\n"
     ]
    },
    {
     "name": "stdout",
     "output_type": "stream",
     "text": [
      "67/67 [==============================] - 242s 4s/step - loss: 5.5138 - categorical_accuracy: 0.4133 - val_loss: 8.4047 - val_categorical_accuracy: 0.2500 - lr: 0.0010\n",
      "Epoch 2/50\n",
      "67/67 [==============================] - ETA: 0s - loss: 8.0314 - categorical_accuracy: 0.3881\n",
      "Epoch 2: saving model to model_init_2024-03-3021_48_38.755725/model-00002-8.03137-0.38806-14.12387-0.29000.h5\n",
      "67/67 [==============================] - 83s 1s/step - loss: 8.0314 - categorical_accuracy: 0.3881 - val_loss: 14.1239 - val_categorical_accuracy: 0.2900 - lr: 0.0010\n",
      "Epoch 3/50\n",
      "67/67 [==============================] - ETA: 0s - loss: 6.7131 - categorical_accuracy: 0.4378\n",
      "Epoch 3: saving model to model_init_2024-03-3021_48_38.755725/model-00003-6.71307-0.43781-7.68727-0.41000.h5\n",
      "67/67 [==============================] - 82s 1s/step - loss: 6.7131 - categorical_accuracy: 0.4378 - val_loss: 7.6873 - val_categorical_accuracy: 0.4100 - lr: 0.0010\n",
      "Epoch 4/50\n",
      "67/67 [==============================] - ETA: 0s - loss: 7.1109 - categorical_accuracy: 0.3582\n",
      "Epoch 4: saving model to model_init_2024-03-3021_48_38.755725/model-00004-7.11088-0.35821-9.65382-0.44000.h5\n",
      "67/67 [==============================] - 82s 1s/step - loss: 7.1109 - categorical_accuracy: 0.3582 - val_loss: 9.6538 - val_categorical_accuracy: 0.4400 - lr: 0.0010\n",
      "Epoch 5/50\n",
      "67/67 [==============================] - ETA: 0s - loss: 3.8612 - categorical_accuracy: 0.4975\n",
      "Epoch 5: saving model to model_init_2024-03-3021_48_38.755725/model-00005-3.86122-0.49751-4.88757-0.44000.h5\n",
      "67/67 [==============================] - 84s 1s/step - loss: 3.8612 - categorical_accuracy: 0.4975 - val_loss: 4.8876 - val_categorical_accuracy: 0.4400 - lr: 0.0010\n",
      "Epoch 6/50\n",
      "67/67 [==============================] - ETA: 0s - loss: 2.9006 - categorical_accuracy: 0.5473\n",
      "Epoch 6: saving model to model_init_2024-03-3021_48_38.755725/model-00006-2.90064-0.54726-4.58505-0.55000.h5\n",
      "67/67 [==============================] - 82s 1s/step - loss: 2.9006 - categorical_accuracy: 0.5473 - val_loss: 4.5850 - val_categorical_accuracy: 0.5500 - lr: 0.0010\n",
      "Epoch 7/50\n",
      "67/67 [==============================] - ETA: 0s - loss: 2.5339 - categorical_accuracy: 0.5373\n",
      "Epoch 7: saving model to model_init_2024-03-3021_48_38.755725/model-00007-2.53388-0.53731-4.07679-0.56000.h5\n",
      "67/67 [==============================] - 82s 1s/step - loss: 2.5339 - categorical_accuracy: 0.5373 - val_loss: 4.0768 - val_categorical_accuracy: 0.5600 - lr: 0.0010\n",
      "Epoch 8/50\n",
      "67/67 [==============================] - ETA: 0s - loss: 2.6792 - categorical_accuracy: 0.5721\n",
      "Epoch 8: saving model to model_init_2024-03-3021_48_38.755725/model-00008-2.67923-0.57214-4.75705-0.45000.h5\n",
      "67/67 [==============================] - 81s 1s/step - loss: 2.6792 - categorical_accuracy: 0.5721 - val_loss: 4.7571 - val_categorical_accuracy: 0.4500 - lr: 0.0010\n",
      "Epoch 9/50\n",
      "67/67 [==============================] - ETA: 0s - loss: 2.3993 - categorical_accuracy: 0.5721\n",
      "Epoch 9: saving model to model_init_2024-03-3021_48_38.755725/model-00009-2.39935-0.57214-3.42903-0.60000.h5\n",
      "67/67 [==============================] - 82s 1s/step - loss: 2.3993 - categorical_accuracy: 0.5721 - val_loss: 3.4290 - val_categorical_accuracy: 0.6000 - lr: 0.0010\n",
      "Epoch 10/50\n",
      "67/67 [==============================] - ETA: 0s - loss: 1.9260 - categorical_accuracy: 0.6318\n",
      "Epoch 10: saving model to model_init_2024-03-3021_48_38.755725/model-00010-1.92604-0.63184-3.96916-0.43000.h5\n",
      "67/67 [==============================] - 81s 1s/step - loss: 1.9260 - categorical_accuracy: 0.6318 - val_loss: 3.9692 - val_categorical_accuracy: 0.4300 - lr: 0.0010\n",
      "Epoch 11/50\n",
      "67/67 [==============================] - ETA: 0s - loss: 1.5129 - categorical_accuracy: 0.6567\n",
      "Epoch 11: saving model to model_init_2024-03-3021_48_38.755725/model-00011-1.51292-0.65672-2.33718-0.60000.h5\n",
      "67/67 [==============================] - 83s 1s/step - loss: 1.5129 - categorical_accuracy: 0.6567 - val_loss: 2.3372 - val_categorical_accuracy: 0.6000 - lr: 0.0010\n",
      "Epoch 12/50\n",
      "67/67 [==============================] - ETA: 0s - loss: 1.7661 - categorical_accuracy: 0.6269\n",
      "Epoch 12: saving model to model_init_2024-03-3021_48_38.755725/model-00012-1.76606-0.62687-3.63459-0.53000.h5\n",
      "67/67 [==============================] - 83s 1s/step - loss: 1.7661 - categorical_accuracy: 0.6269 - val_loss: 3.6346 - val_categorical_accuracy: 0.5300 - lr: 0.0010\n",
      "Epoch 13/50\n",
      "67/67 [==============================] - ETA: 0s - loss: 1.5551 - categorical_accuracy: 0.6866\n",
      "Epoch 13: saving model to model_init_2024-03-3021_48_38.755725/model-00013-1.55514-0.68657-2.61398-0.59000.h5\n",
      "67/67 [==============================] - 82s 1s/step - loss: 1.5551 - categorical_accuracy: 0.6866 - val_loss: 2.6140 - val_categorical_accuracy: 0.5900 - lr: 0.0010\n",
      "Epoch 14/50\n",
      "67/67 [==============================] - ETA: 0s - loss: 1.1708 - categorical_accuracy: 0.7065\n",
      "Epoch 14: saving model to model_init_2024-03-3021_48_38.755725/model-00014-1.17079-0.70647-2.53630-0.59000.h5\n",
      "67/67 [==============================] - 82s 1s/step - loss: 1.1708 - categorical_accuracy: 0.7065 - val_loss: 2.5363 - val_categorical_accuracy: 0.5900 - lr: 0.0010\n",
      "Epoch 15/50\n",
      "67/67 [==============================] - ETA: 0s - loss: 1.4158 - categorical_accuracy: 0.6517\n",
      "Epoch 15: saving model to model_init_2024-03-3021_48_38.755725/model-00015-1.41585-0.65174-2.46482-0.53000.h5\n",
      "67/67 [==============================] - 82s 1s/step - loss: 1.4158 - categorical_accuracy: 0.6517 - val_loss: 2.4648 - val_categorical_accuracy: 0.5300 - lr: 0.0010\n",
      "Epoch 16/50\n",
      "67/67 [==============================] - ETA: 0s - loss: 1.3025 - categorical_accuracy: 0.6567\n",
      "Epoch 16: saving model to model_init_2024-03-3021_48_38.755725/model-00016-1.30251-0.65672-3.23888-0.59000.h5\n",
      "\n",
      "Epoch 16: ReduceLROnPlateau reducing learning rate to 0.00020000000949949026.\n",
      "67/67 [==============================] - 84s 1s/step - loss: 1.3025 - categorical_accuracy: 0.6567 - val_loss: 3.2389 - val_categorical_accuracy: 0.5900 - lr: 0.0010\n",
      "Epoch 17/50\n",
      "67/67 [==============================] - ETA: 0s - loss: 1.0888 - categorical_accuracy: 0.6915\n",
      "Epoch 17: saving model to model_init_2024-03-3021_48_38.755725/model-00017-1.08878-0.69154-1.46416-0.61000.h5\n",
      "67/67 [==============================] - 84s 1s/step - loss: 1.0888 - categorical_accuracy: 0.6915 - val_loss: 1.4642 - val_categorical_accuracy: 0.6100 - lr: 2.0000e-04\n",
      "Epoch 18/50\n",
      "67/67 [==============================] - ETA: 0s - loss: 0.8194 - categorical_accuracy: 0.7562\n",
      "Epoch 18: saving model to model_init_2024-03-3021_48_38.755725/model-00018-0.81943-0.75622-1.95474-0.60000.h5\n",
      "67/67 [==============================] - 84s 1s/step - loss: 0.8194 - categorical_accuracy: 0.7562 - val_loss: 1.9547 - val_categorical_accuracy: 0.6000 - lr: 2.0000e-04\n",
      "Epoch 19/50\n",
      "67/67 [==============================] - ETA: 0s - loss: 1.3201 - categorical_accuracy: 0.6716\n",
      "Epoch 19: saving model to model_init_2024-03-3021_48_38.755725/model-00019-1.32006-0.67164-1.68728-0.63000.h5\n",
      "67/67 [==============================] - 83s 1s/step - loss: 1.3201 - categorical_accuracy: 0.6716 - val_loss: 1.6873 - val_categorical_accuracy: 0.6300 - lr: 2.0000e-04\n",
      "Epoch 20/50\n",
      "67/67 [==============================] - ETA: 0s - loss: 0.8666 - categorical_accuracy: 0.7214\n",
      "Epoch 20: saving model to model_init_2024-03-3021_48_38.755725/model-00020-0.86657-0.72139-1.18684-0.61000.h5\n",
      "67/67 [==============================] - 82s 1s/step - loss: 0.8666 - categorical_accuracy: 0.7214 - val_loss: 1.1868 - val_categorical_accuracy: 0.6100 - lr: 2.0000e-04\n",
      "Epoch 21/50\n",
      "67/67 [==============================] - ETA: 0s - loss: 0.7773 - categorical_accuracy: 0.7662\n",
      "Epoch 21: saving model to model_init_2024-03-3021_48_38.755725/model-00021-0.77730-0.76617-1.30984-0.61000.h5\n",
      "67/67 [==============================] - 82s 1s/step - loss: 0.7773 - categorical_accuracy: 0.7662 - val_loss: 1.3098 - val_categorical_accuracy: 0.6100 - lr: 2.0000e-04\n",
      "Epoch 22/50\n",
      "67/67 [==============================] - ETA: 0s - loss: 0.5865 - categorical_accuracy: 0.8010\n",
      "Epoch 22: saving model to model_init_2024-03-3021_48_38.755725/model-00022-0.58650-0.80100-1.19683-0.60000.h5\n",
      "67/67 [==============================] - 83s 1s/step - loss: 0.5865 - categorical_accuracy: 0.8010 - val_loss: 1.1968 - val_categorical_accuracy: 0.6000 - lr: 2.0000e-04\n",
      "Epoch 23/50\n",
      "67/67 [==============================] - ETA: 0s - loss: 0.5471 - categorical_accuracy: 0.7960\n",
      "Epoch 23: saving model to model_init_2024-03-3021_48_38.755725/model-00023-0.54708-0.79602-1.14060-0.62000.h5\n",
      "67/67 [==============================] - 85s 1s/step - loss: 0.5471 - categorical_accuracy: 0.7960 - val_loss: 1.1406 - val_categorical_accuracy: 0.6200 - lr: 2.0000e-04\n",
      "Epoch 24/50\n",
      "67/67 [==============================] - ETA: 0s - loss: 0.5619 - categorical_accuracy: 0.7711\n",
      "Epoch 24: saving model to model_init_2024-03-3021_48_38.755725/model-00024-0.56192-0.77114-1.55577-0.56000.h5\n",
      "67/67 [==============================] - 84s 1s/step - loss: 0.5619 - categorical_accuracy: 0.7711 - val_loss: 1.5558 - val_categorical_accuracy: 0.5600 - lr: 2.0000e-04\n",
      "Epoch 25/50\n",
      "67/67 [==============================] - ETA: 0s - loss: 0.5066 - categorical_accuracy: 0.8507\n",
      "Epoch 25: saving model to model_init_2024-03-3021_48_38.755725/model-00025-0.50662-0.85075-0.96306-0.73000.h5\n",
      "67/67 [==============================] - 83s 1s/step - loss: 0.5066 - categorical_accuracy: 0.8507 - val_loss: 0.9631 - val_categorical_accuracy: 0.7300 - lr: 2.0000e-04\n",
      "Epoch 26/50\n",
      "67/67 [==============================] - ETA: 0s - loss: 0.7007 - categorical_accuracy: 0.7811\n",
      "Epoch 26: saving model to model_init_2024-03-3021_48_38.755725/model-00026-0.70066-0.78109-1.07343-0.68000.h5\n",
      "67/67 [==============================] - 83s 1s/step - loss: 0.7007 - categorical_accuracy: 0.7811 - val_loss: 1.0734 - val_categorical_accuracy: 0.6800 - lr: 2.0000e-04\n",
      "Epoch 27/50\n",
      "67/67 [==============================] - ETA: 0s - loss: 0.5389 - categorical_accuracy: 0.8010\n",
      "Epoch 27: saving model to model_init_2024-03-3021_48_38.755725/model-00027-0.53890-0.80100-1.19479-0.64000.h5\n",
      "67/67 [==============================] - 83s 1s/step - loss: 0.5389 - categorical_accuracy: 0.8010 - val_loss: 1.1948 - val_categorical_accuracy: 0.6400 - lr: 2.0000e-04\n",
      "Epoch 28/50\n",
      "67/67 [==============================] - ETA: 0s - loss: 0.5314 - categorical_accuracy: 0.8109\n",
      "Epoch 28: saving model to model_init_2024-03-3021_48_38.755725/model-00028-0.53142-0.81095-1.03756-0.71000.h5\n",
      "67/67 [==============================] - 82s 1s/step - loss: 0.5314 - categorical_accuracy: 0.8109 - val_loss: 1.0376 - val_categorical_accuracy: 0.7100 - lr: 2.0000e-04\n",
      "Epoch 29/50\n",
      "67/67 [==============================] - ETA: 0s - loss: 0.5354 - categorical_accuracy: 0.7960\n",
      "Epoch 29: saving model to model_init_2024-03-3021_48_38.755725/model-00029-0.53535-0.79602-1.28612-0.61000.h5\n",
      "67/67 [==============================] - 82s 1s/step - loss: 0.5354 - categorical_accuracy: 0.7960 - val_loss: 1.2861 - val_categorical_accuracy: 0.6100 - lr: 2.0000e-04\n",
      "Epoch 30/50\n",
      "67/67 [==============================] - ETA: 0s - loss: 0.5488 - categorical_accuracy: 0.8109\n",
      "Epoch 30: saving model to model_init_2024-03-3021_48_38.755725/model-00030-0.54880-0.81095-0.86002-0.70000.h5\n",
      "67/67 [==============================] - 83s 1s/step - loss: 0.5488 - categorical_accuracy: 0.8109 - val_loss: 0.8600 - val_categorical_accuracy: 0.7000 - lr: 2.0000e-04\n",
      "Epoch 31/50\n",
      "67/67 [==============================] - ETA: 0s - loss: 0.5706 - categorical_accuracy: 0.8109\n",
      "Epoch 31: saving model to model_init_2024-03-3021_48_38.755725/model-00031-0.57058-0.81095-1.02989-0.70000.h5\n",
      "67/67 [==============================] - 83s 1s/step - loss: 0.5706 - categorical_accuracy: 0.8109 - val_loss: 1.0299 - val_categorical_accuracy: 0.7000 - lr: 2.0000e-04\n",
      "Epoch 32/50\n",
      "67/67 [==============================] - ETA: 0s - loss: 0.5193 - categorical_accuracy: 0.8010\n",
      "Epoch 32: saving model to model_init_2024-03-3021_48_38.755725/model-00032-0.51926-0.80100-1.06505-0.69000.h5\n",
      "67/67 [==============================] - 85s 1s/step - loss: 0.5193 - categorical_accuracy: 0.8010 - val_loss: 1.0650 - val_categorical_accuracy: 0.6900 - lr: 2.0000e-04\n",
      "Epoch 33/50\n",
      "67/67 [==============================] - ETA: 0s - loss: 0.5171 - categorical_accuracy: 0.8010\n",
      "Epoch 33: saving model to model_init_2024-03-3021_48_38.755725/model-00033-0.51713-0.80100-1.05566-0.63000.h5\n",
      "67/67 [==============================] - 83s 1s/step - loss: 0.5171 - categorical_accuracy: 0.8010 - val_loss: 1.0557 - val_categorical_accuracy: 0.6300 - lr: 2.0000e-04\n",
      "Epoch 34/50\n",
      "67/67 [==============================] - ETA: 0s - loss: 0.6018 - categorical_accuracy: 0.7811\n",
      "Epoch 34: saving model to model_init_2024-03-3021_48_38.755725/model-00034-0.60178-0.78109-1.01817-0.75000.h5\n",
      "67/67 [==============================] - 84s 1s/step - loss: 0.6018 - categorical_accuracy: 0.7811 - val_loss: 1.0182 - val_categorical_accuracy: 0.7500 - lr: 2.0000e-04\n",
      "Epoch 35/50\n",
      "67/67 [==============================] - ETA: 0s - loss: 0.4804 - categorical_accuracy: 0.8507\n",
      "Epoch 35: saving model to model_init_2024-03-3021_48_38.755725/model-00035-0.48044-0.85075-1.13697-0.68000.h5\n",
      "\n",
      "Epoch 35: ReduceLROnPlateau reducing learning rate to 4.0000001899898055e-05.\n",
      "67/67 [==============================] - 85s 1s/step - loss: 0.4804 - categorical_accuracy: 0.8507 - val_loss: 1.1370 - val_categorical_accuracy: 0.6800 - lr: 2.0000e-04\n",
      "Epoch 36/50\n",
      "67/67 [==============================] - ETA: 0s - loss: 0.4280 - categorical_accuracy: 0.8408\n",
      "Epoch 36: saving model to model_init_2024-03-3021_48_38.755725/model-00036-0.42798-0.84080-0.99918-0.69000.h5\n",
      "67/67 [==============================] - 83s 1s/step - loss: 0.4280 - categorical_accuracy: 0.8408 - val_loss: 0.9992 - val_categorical_accuracy: 0.6900 - lr: 4.0000e-05\n",
      "Epoch 37/50\n",
      "67/67 [==============================] - ETA: 0s - loss: 0.6406 - categorical_accuracy: 0.7861\n",
      "Epoch 37: saving model to model_init_2024-03-3021_48_38.755725/model-00037-0.64059-0.78607-1.13485-0.67000.h5\n",
      "67/67 [==============================] - 83s 1s/step - loss: 0.6406 - categorical_accuracy: 0.7861 - val_loss: 1.1349 - val_categorical_accuracy: 0.6700 - lr: 4.0000e-05\n",
      "Epoch 38/50\n",
      "67/67 [==============================] - ETA: 0s - loss: 0.4025 - categorical_accuracy: 0.8557\n",
      "Epoch 38: saving model to model_init_2024-03-3021_48_38.755725/model-00038-0.40247-0.85572-0.99769-0.71000.h5\n",
      "67/67 [==============================] - 83s 1s/step - loss: 0.4025 - categorical_accuracy: 0.8557 - val_loss: 0.9977 - val_categorical_accuracy: 0.7100 - lr: 4.0000e-05\n",
      "Epoch 39/50\n",
      "67/67 [==============================] - ETA: 0s - loss: 0.4312 - categorical_accuracy: 0.8657\n",
      "Epoch 39: saving model to model_init_2024-03-3021_48_38.755725/model-00039-0.43116-0.86567-0.90406-0.71000.h5\n",
      "67/67 [==============================] - 110s 2s/step - loss: 0.4312 - categorical_accuracy: 0.8657 - val_loss: 0.9041 - val_categorical_accuracy: 0.7100 - lr: 4.0000e-05\n",
      "Epoch 40/50\n",
      "67/67 [==============================] - ETA: 0s - loss: 0.4754 - categorical_accuracy: 0.8209\n",
      "Epoch 40: saving model to model_init_2024-03-3021_48_38.755725/model-00040-0.47545-0.82090-0.89165-0.73000.h5\n",
      "\n",
      "Epoch 40: ReduceLROnPlateau reducing learning rate to 8.000000525498762e-06.\n",
      "67/67 [==============================] - 81s 1s/step - loss: 0.4754 - categorical_accuracy: 0.8209 - val_loss: 0.8917 - val_categorical_accuracy: 0.7300 - lr: 4.0000e-05\n",
      "Epoch 41/50\n",
      "67/67 [==============================] - ETA: 0s - loss: 0.3623 - categorical_accuracy: 0.8557\n",
      "Epoch 41: saving model to model_init_2024-03-3021_48_38.755725/model-00041-0.36234-0.85572-0.87541-0.68000.h5\n",
      "67/67 [==============================] - 81s 1s/step - loss: 0.3623 - categorical_accuracy: 0.8557 - val_loss: 0.8754 - val_categorical_accuracy: 0.6800 - lr: 8.0000e-06\n",
      "Epoch 42/50\n",
      "67/67 [==============================] - ETA: 0s - loss: 0.5265 - categorical_accuracy: 0.8109\n",
      "Epoch 42: saving model to model_init_2024-03-3021_48_38.755725/model-00042-0.52654-0.81095-1.10327-0.63000.h5\n",
      "67/67 [==============================] - 87s 1s/step - loss: 0.5265 - categorical_accuracy: 0.8109 - val_loss: 1.1033 - val_categorical_accuracy: 0.6300 - lr: 8.0000e-06\n",
      "Epoch 43/50\n",
      "67/67 [==============================] - ETA: 0s - loss: 0.5259 - categorical_accuracy: 0.8010\n",
      "Epoch 43: saving model to model_init_2024-03-3021_48_38.755725/model-00043-0.52590-0.80100-0.98663-0.71000.h5\n",
      "67/67 [==============================] - 82s 1s/step - loss: 0.5259 - categorical_accuracy: 0.8010 - val_loss: 0.9866 - val_categorical_accuracy: 0.7100 - lr: 8.0000e-06\n",
      "Epoch 44/50\n",
      "67/67 [==============================] - ETA: 0s - loss: 0.5475 - categorical_accuracy: 0.8010\n",
      "Epoch 44: saving model to model_init_2024-03-3021_48_38.755725/model-00044-0.54749-0.80100-0.70945-0.74000.h5\n",
      "67/67 [==============================] - 82s 1s/step - loss: 0.5475 - categorical_accuracy: 0.8010 - val_loss: 0.7095 - val_categorical_accuracy: 0.7400 - lr: 8.0000e-06\n",
      "Epoch 45/50\n",
      "67/67 [==============================] - ETA: 0s - loss: 0.4077 - categorical_accuracy: 0.8657\n",
      "Epoch 45: saving model to model_init_2024-03-3021_48_38.755725/model-00045-0.40772-0.86567-0.91122-0.72000.h5\n",
      "67/67 [==============================] - 81s 1s/step - loss: 0.4077 - categorical_accuracy: 0.8657 - val_loss: 0.9112 - val_categorical_accuracy: 0.7200 - lr: 8.0000e-06\n",
      "Epoch 46/50\n",
      "67/67 [==============================] - ETA: 0s - loss: 0.3693 - categorical_accuracy: 0.8607\n",
      "Epoch 46: saving model to model_init_2024-03-3021_48_38.755725/model-00046-0.36931-0.86070-0.96165-0.68000.h5\n",
      "67/67 [==============================] - 81s 1s/step - loss: 0.3693 - categorical_accuracy: 0.8607 - val_loss: 0.9617 - val_categorical_accuracy: 0.6800 - lr: 8.0000e-06\n",
      "Epoch 47/50\n",
      "67/67 [==============================] - ETA: 0s - loss: 0.5104 - categorical_accuracy: 0.8358\n",
      "Epoch 47: saving model to model_init_2024-03-3021_48_38.755725/model-00047-0.51041-0.83582-1.09527-0.63000.h5\n",
      "67/67 [==============================] - 81s 1s/step - loss: 0.5104 - categorical_accuracy: 0.8358 - val_loss: 1.0953 - val_categorical_accuracy: 0.6300 - lr: 8.0000e-06\n",
      "Epoch 48/50\n",
      "67/67 [==============================] - ETA: 0s - loss: 0.4208 - categorical_accuracy: 0.8308\n",
      "Epoch 48: saving model to model_init_2024-03-3021_48_38.755725/model-00048-0.42083-0.83085-1.01080-0.69000.h5\n",
      "67/67 [==============================] - 81s 1s/step - loss: 0.4208 - categorical_accuracy: 0.8308 - val_loss: 1.0108 - val_categorical_accuracy: 0.6900 - lr: 8.0000e-06\n",
      "Epoch 49/50\n",
      "67/67 [==============================] - ETA: 0s - loss: 0.3838 - categorical_accuracy: 0.8408\n",
      "Epoch 49: saving model to model_init_2024-03-3021_48_38.755725/model-00049-0.38376-0.84080-0.82915-0.69000.h5\n",
      "\n",
      "Epoch 49: ReduceLROnPlateau reducing learning rate to 1.6000001778593287e-06.\n",
      "67/67 [==============================] - 81s 1s/step - loss: 0.3838 - categorical_accuracy: 0.8408 - val_loss: 0.8292 - val_categorical_accuracy: 0.6900 - lr: 8.0000e-06\n",
      "Epoch 50/50\n",
      "67/67 [==============================] - ETA: 0s - loss: 0.4104 - categorical_accuracy: 0.8209\n",
      "Epoch 50: saving model to model_init_2024-03-3021_48_38.755725/model-00050-0.41040-0.82090-0.86973-0.73000.h5\n",
      "67/67 [==============================] - 81s 1s/step - loss: 0.4104 - categorical_accuracy: 0.8209 - val_loss: 0.8697 - val_categorical_accuracy: 0.7300 - lr: 1.6000e-06\n"
     ]
    }
   ],
   "source": [
    "history=model.fit(train_generator, steps_per_epoch=steps_per_epoch, epochs=num_epochs, verbose=1, callbacks=callbacks_list,\n",
    "                  validation_data=val_generator, validation_steps=validation_steps, class_weight=None,\n",
    "                  workers=1, initial_epoch=0, max_queue_size=3000)"
   ]
  },
  {
   "cell_type": "code",
   "execution_count": 14,
   "metadata": {},
   "outputs": [
    {
     "data": {
      "text/plain": [
       "<Figure size 1000x1000 with 0 Axes>"
      ]
     },
     "metadata": {},
     "output_type": "display_data"
    },
    {
     "data": {
      "image/png": "[encoded data removed]",
      "text/plain": [
       "<Figure size 800x800 with 2 Axes>"
      ]
     },
     "metadata": {},
     "output_type": "display_data"
    }
   ],
   "source": [
    "import matplotlib.pyplot as plt\n",
    "%matplotlib inline\n",
    "\n",
    "plt.figure(figsize = (10,10))\n",
    "\n",
    "acc = history.history['categorical_accuracy']\n",
    "val_acc = history.history['val_categorical_accuracy']\n",
    "\n",
    "loss = history.history['loss']\n",
    "val_loss = history.history['val_loss']\n",
    "\n",
    "epochs_range = range(num_epochs)\n",
    "\n",
    "plt.figure(figsize=(8, 8))\n",
    "plt.subplot(1, 2, 1)\n",
    "plt.plot(epochs_range, acc, label='Training Accuracy')\n",
    "plt.plot(epochs_range, val_acc, label='Validation Accuracy')\n",
    "plt.legend(loc='lower right')\n",
    "plt.title('Training and Validation Accuracy')\n",
    "\n",
    "plt.subplot(1, 2, 2)\n",
    "plt.plot(epochs_range, loss, label='Training Loss')\n",
    "plt.plot(epochs_range, val_loss, label='Validation Loss')\n",
    "plt.legend(loc='upper right')\n",
    "plt.title('Training and Validation Loss')\n",
    "plt.show()"
   ]
  }
 ],
 "metadata": {
  "kernelspec": {
   "display_name": "Python 3",
   "language": "python",
   "name": "python3"
  },
  "language_info": {
   "codemirror_mode": {
    "name": "ipython",
    "version": 3
   },
   "file_extension": ".py",
   "mimetype": "text/x-python",
   "name": "python",
   "nbconvert_exporter": "python",
   "pygments_lexer": "ipython3",
   "version": "3.9.17"
  }
 },
 "nbformat": 4,
 "nbformat_minor": 2
}
